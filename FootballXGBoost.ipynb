{
 "cells": [
  {
   "cell_type": "code",
   "execution_count": 27,
   "id": "66aef517-b255-4e17-a828-dd2de300da52",
   "metadata": {},
   "outputs": [],
   "source": [
    "import numpy as np\n",
    "import pandas as pd\n",
    "\n",
    "from xgboost import XGBClassifier\n",
    "from xgboost import plot_importance\n",
    "\n",
    "from sklearn.model_selection import train_test_split\n",
    "from sklearn.metrics import ConfusionMatrixDisplay,confusion_matrix\n",
    "from sklearn.metrics import recall_score,precision_score,f1_score,accuracy_score\n",
    "import matplotlib.pyplot as plt\n",
    "from sklearn.model_selection import GridSearchCV\n",
    "\n",
    "from sklearn.utils import shuffle"
   ]
  },
  {
   "cell_type": "code",
   "execution_count": 5,
   "id": "323d298e-f77c-48d7-94b8-100349b299d5",
   "metadata": {},
   "outputs": [],
   "source": [
    "games=pd.read_csv(\"AllLeagues.csv\")\n",
    "games=shuffle(games)"
   ]
  },
  {
   "cell_type": "code",
   "execution_count": 6,
   "id": "98c5adab-e2cc-4866-b6c9-bff120031fe0",
   "metadata": {},
   "outputs": [
    {
     "data": {
      "text/plain": [
       "((35943, 32), (35943, 1))"
      ]
     },
     "execution_count": 6,
     "metadata": {},
     "output_type": "execute_result"
    }
   ],
   "source": [
    "features=games.loc[:,\"Wins\":]\n",
    "targets=games[[\"FTR\"]]\n",
    "X_train,X_test,Y_train,Y_test=train_test_split(features,targets,test_size=0.1)\n",
    "#stratify=targets\n",
    "X_train.shape,Y_train.shape"
   ]
  },
  {
   "cell_type": "code",
   "execution_count": 14,
   "id": "f6fafdcc-981a-4846-b985-1a0b9b9827cd",
   "metadata": {},
   "outputs": [
    {
     "data": {
      "text/html": [
       "<div>\n",
       "<style scoped>\n",
       "    .dataframe tbody tr th:only-of-type {\n",
       "        vertical-align: middle;\n",
       "    }\n",
       "\n",
       "    .dataframe tbody tr th {\n",
       "        vertical-align: top;\n",
       "    }\n",
       "\n",
       "    .dataframe thead th {\n",
       "        text-align: right;\n",
       "    }\n",
       "</style>\n",
       "<table border=\"1\" class=\"dataframe\">\n",
       "  <thead>\n",
       "    <tr style=\"text-align: right;\">\n",
       "      <th></th>\n",
       "      <th>FTR</th>\n",
       "    </tr>\n",
       "  </thead>\n",
       "  <tbody>\n",
       "    <tr>\n",
       "      <th>12171</th>\n",
       "      <td>0</td>\n",
       "    </tr>\n",
       "    <tr>\n",
       "      <th>18631</th>\n",
       "      <td>2</td>\n",
       "    </tr>\n",
       "    <tr>\n",
       "      <th>6299</th>\n",
       "      <td>1</td>\n",
       "    </tr>\n",
       "    <tr>\n",
       "      <th>9922</th>\n",
       "      <td>0</td>\n",
       "    </tr>\n",
       "    <tr>\n",
       "      <th>19525</th>\n",
       "      <td>2</td>\n",
       "    </tr>\n",
       "    <tr>\n",
       "      <th>...</th>\n",
       "      <td>...</td>\n",
       "    </tr>\n",
       "    <tr>\n",
       "      <th>11814</th>\n",
       "      <td>1</td>\n",
       "    </tr>\n",
       "    <tr>\n",
       "      <th>36226</th>\n",
       "      <td>0</td>\n",
       "    </tr>\n",
       "    <tr>\n",
       "      <th>6418</th>\n",
       "      <td>2</td>\n",
       "    </tr>\n",
       "    <tr>\n",
       "      <th>37612</th>\n",
       "      <td>0</td>\n",
       "    </tr>\n",
       "    <tr>\n",
       "      <th>29520</th>\n",
       "      <td>0</td>\n",
       "    </tr>\n",
       "  </tbody>\n",
       "</table>\n",
       "<p>35943 rows × 1 columns</p>\n",
       "</div>"
      ],
      "text/plain": [
       "       FTR\n",
       "12171    0\n",
       "18631    2\n",
       "6299     1\n",
       "9922     0\n",
       "19525    2\n",
       "...    ...\n",
       "11814    1\n",
       "36226    0\n",
       "6418     2\n",
       "37612    0\n",
       "29520    0\n",
       "\n",
       "[35943 rows x 1 columns]"
      ]
     },
     "execution_count": 14,
     "metadata": {},
     "output_type": "execute_result"
    }
   ],
   "source": [
    "class_mapping = {'H': 0, 'D': 1, 'A': 2}\n",
    "Y_train=Y_train.replace(class_mapping)\n",
    "Y_train"
   ]
  },
  {
   "cell_type": "code",
   "execution_count": 21,
   "id": "d281afaa-40c4-489a-80b6-41f054c8f76e",
   "metadata": {},
   "outputs": [
    {
     "data": {
      "text/plain": [
       "XGBClassifier(base_score=None, booster=None, callbacks=None,\n",
       "              colsample_bylevel=None, colsample_bynode=None,\n",
       "              colsample_bytree=None, device=None, early_stopping_rounds=None,\n",
       "              enable_categorical=False, eval_metric=None, feature_types=None,\n",
       "              gamma=None, grow_policy=None, importance_type=None,\n",
       "              interaction_constraints=None, learning_rate=None, max_bin=None,\n",
       "              max_cat_threshold=None, max_cat_to_onehot=None,\n",
       "              max_delta_step=None, max_depth=None, max_leaves=None,\n",
       "              min_child_weight=None, missing=nan, monotone_constraints=None,\n",
       "              multi_strategy=None, n_estimators=None, n_jobs=None,\n",
       "              num_parallel_tree=None, objective='multi:softmax', ...)"
      ]
     },
     "execution_count": 21,
     "metadata": {},
     "output_type": "execute_result"
    }
   ],
   "source": [
    "xgb=XGBClassifier(objective=\"multi:softmax\")\n",
    "xgb.fit(X_train,Y_train)"
   ]
  },
  {
   "cell_type": "code",
   "execution_count": 22,
   "id": "776cf024-b401-4894-9b96-defc25a31579",
   "metadata": {},
   "outputs": [],
   "source": [
    "Y_test=Y_test.replace(class_mapping)"
   ]
  },
  {
   "cell_type": "code",
   "execution_count": 23,
   "id": "b4ffe5af-8399-4223-aa9a-0d38d5b66a13",
   "metadata": {},
   "outputs": [],
   "source": [
    "res=xgb.predict(X_test)"
   ]
  },
  {
   "cell_type": "code",
   "execution_count": 24,
   "id": "50e28bc7-fd11-4dd2-8e78-1f3fc5100e11",
   "metadata": {},
   "outputs": [
    {
     "data": {
      "text/plain": [
       "0.5753630445668503"
      ]
     },
     "execution_count": 24,
     "metadata": {},
     "output_type": "execute_result"
    }
   ],
   "source": [
    "f1_score(Y_test,res,average=\"micro\")"
   ]
  },
  {
   "cell_type": "code",
   "execution_count": 29,
   "id": "f939155b-9187-4249-9ddf-4dfa6bffa219",
   "metadata": {},
   "outputs": [],
   "source": [
    "cv_params={\"max_depth\":[4,5,6,7,8],\"min_child_weight\":[1,2,3,4,5],\"learning_rate\":[0.1,0.2,0.3],\"n_estimators\":[75,100,125]}\n",
    "scorers={\"f1_micro\"}"
   ]
  },
  {
   "cell_type": "code",
   "execution_count": 30,
   "id": "1e4b0dcb-e1a5-4f5f-be68-3db6259cfd2c",
   "metadata": {},
   "outputs": [],
   "source": [
    "cv_params={\"max_depth\":[4,5,6,7,8],\"min_child_weight\":[1,2,3,4,5],\"learning_rate\":[0.1,0.2,0.3],\"n_estimators\":[75,100,125]}\n",
    "scorers={\"f1_micro\"}\n",
    "xgb2=XGBClassifier(objective=\"multi:softmax\")\n",
    "cv=GridSearchCV(xgb2,cv_params,scoring=scorers,cv=4,refit=\"f1_micro\")"
   ]
  },
  {
   "cell_type": "code",
   "execution_count": 31,
   "id": "6cb63bb8-7b21-4d38-bc60-67c5b90f6fdf",
   "metadata": {},
   "outputs": [
    {
     "name": "stdout",
     "output_type": "stream",
     "text": [
      "CPU times: user 6h 23min 15s, sys: 1min 13s, total: 6h 24min 28s\n",
      "Wall time: 53min 28s\n"
     ]
    },
    {
     "data": {
      "text/plain": [
       "GridSearchCV(cv=4,\n",
       "             estimator=XGBClassifier(base_score=None, booster=None,\n",
       "                                     callbacks=None, colsample_bylevel=None,\n",
       "                                     colsample_bynode=None,\n",
       "                                     colsample_bytree=None, device=None,\n",
       "                                     early_stopping_rounds=None,\n",
       "                                     enable_categorical=False, eval_metric=None,\n",
       "                                     feature_types=None, gamma=None,\n",
       "                                     grow_policy=None, importance_type=None,\n",
       "                                     interaction_constraints=None,\n",
       "                                     learning_rate=None,...\n",
       "                                     max_delta_step=None, max_depth=None,\n",
       "                                     max_leaves=None, min_child_weight=None,\n",
       "                                     missing=nan, monotone_constraints=None,\n",
       "                                     multi_strategy=None, n_estimators=None,\n",
       "                                     n_jobs=None, num_parallel_tree=None,\n",
       "                                     objective='multi:softmax', ...),\n",
       "             param_grid={'learning_rate': [0.1, 0.2, 0.3],\n",
       "                         'max_depth': [4, 5, 6, 7, 8],\n",
       "                         'min_child_weight': [1, 2, 3, 4, 5],\n",
       "                         'n_estimators': [75, 100, 125]},\n",
       "             refit='f1_micro', scoring={'f1_micro'})"
      ]
     },
     "execution_count": 31,
     "metadata": {},
     "output_type": "execute_result"
    }
   ],
   "source": [
    "%%time\n",
    "cv.fit(X_train,Y_train)"
   ]
  },
  {
   "cell_type": "code",
   "execution_count": 33,
   "id": "1b80b56c-d8ce-4de8-b117-4d532101135e",
   "metadata": {},
   "outputs": [
    {
     "data": {
      "text/plain": [
       "XGBClassifier(base_score=None, booster=None, callbacks=None,\n",
       "              colsample_bylevel=None, colsample_bynode=None,\n",
       "              colsample_bytree=None, device=None, early_stopping_rounds=None,\n",
       "              enable_categorical=False, eval_metric=None, feature_types=None,\n",
       "              gamma=None, grow_policy=None, importance_type=None,\n",
       "              interaction_constraints=None, learning_rate=0.2, max_bin=None,\n",
       "              max_cat_threshold=None, max_cat_to_onehot=None,\n",
       "              max_delta_step=None, max_depth=8, max_leaves=None,\n",
       "              min_child_weight=1, missing=nan, monotone_constraints=None,\n",
       "              multi_strategy=None, n_estimators=125, n_jobs=None,\n",
       "              num_parallel_tree=None, objective='multi:softmax', ...)"
      ]
     },
     "execution_count": 33,
     "metadata": {},
     "output_type": "execute_result"
    }
   ],
   "source": [
    "cv.best_estimator_"
   ]
  },
  {
   "cell_type": "code",
   "execution_count": 34,
   "id": "a179681f-6a5f-4591-9846-213498ee15e1",
   "metadata": {},
   "outputs": [
    {
     "data": {
      "text/plain": [
       "0.591046989436731"
      ]
     },
     "execution_count": 34,
     "metadata": {},
     "output_type": "execute_result"
    }
   ],
   "source": [
    "cv.best_score_"
   ]
  },
  {
   "cell_type": "code",
   "execution_count": 35,
   "id": "8ab80b3c-7f0d-4ec6-b550-7d25dfcf4924",
   "metadata": {},
   "outputs": [],
   "source": [
    "cv_params={\"max_depth\":[20,None],\"min_child_weight\":[3,4],\"learning_rate\":[0.15,0.17],\"n_estimators\":[125,150]}\n",
    "scorers={\"f1_micro\"}\n",
    "xgb3=XGBClassifier(objective=\"multi:softmax\")\n",
    "cv2=GridSearchCV(xgb3,cv_params,scoring=scorers,cv=4,refit=\"f1_micro\")"
   ]
  },
  {
   "cell_type": "code",
   "execution_count": 36,
   "id": "e6e31b59-09da-4c50-9173-b5e7254282c4",
   "metadata": {},
   "outputs": [
    {
     "name": "stdout",
     "output_type": "stream",
     "text": [
      "CPU times: user 19h 14min 13s, sys: 3min 39s, total: 19h 17min 52s\n",
      "Wall time: 2h 42min 51s\n"
     ]
    },
    {
     "data": {
      "text/plain": [
       "GridSearchCV(cv=4,\n",
       "             estimator=XGBClassifier(base_score=None, booster=None,\n",
       "                                     callbacks=None, colsample_bylevel=None,\n",
       "                                     colsample_bynode=None,\n",
       "                                     colsample_bytree=None, device=None,\n",
       "                                     early_stopping_rounds=None,\n",
       "                                     enable_categorical=False, eval_metric=None,\n",
       "                                     feature_types=None, gamma=None,\n",
       "                                     grow_policy=None, importance_type=None,\n",
       "                                     interaction_constraints=None,\n",
       "                                     learning_rate=None,...\n",
       "                                     max_delta_step=None, max_depth=None,\n",
       "                                     max_leaves=None, min_child_weight=None,\n",
       "                                     missing=nan, monotone_constraints=None,\n",
       "                                     multi_strategy=None, n_estimators=None,\n",
       "                                     n_jobs=None, num_parallel_tree=None,\n",
       "                                     objective='multi:softmax', ...),\n",
       "             param_grid={'learning_rate': [0.15, 0.2, 0.25],\n",
       "                         'max_depth': [8, 15, 20],\n",
       "                         'min_child_weight': [1, 2, 3],\n",
       "                         'n_estimators': [125, 200, 300]},\n",
       "             refit='f1_micro', scoring={'f1_micro'})"
      ]
     },
     "execution_count": 36,
     "metadata": {},
     "output_type": "execute_result"
    }
   ],
   "source": [
    "%%time\n",
    "cv2.fit(X_train,Y_train)"
   ]
  },
  {
   "cell_type": "code",
   "execution_count": 37,
   "id": "7bef148b-ba87-4e8b-86bc-4682777b9423",
   "metadata": {},
   "outputs": [
    {
     "data": {
      "text/plain": [
       "XGBClassifier(base_score=None, booster=None, callbacks=None,\n",
       "              colsample_bylevel=None, colsample_bynode=None,\n",
       "              colsample_bytree=None, device=None, early_stopping_rounds=None,\n",
       "              enable_categorical=False, eval_metric=None, feature_types=None,\n",
       "              gamma=None, grow_policy=None, importance_type=None,\n",
       "              interaction_constraints=None, learning_rate=0.15, max_bin=None,\n",
       "              max_cat_threshold=None, max_cat_to_onehot=None,\n",
       "              max_delta_step=None, max_depth=20, max_leaves=None,\n",
       "              min_child_weight=3, missing=nan, monotone_constraints=None,\n",
       "              multi_strategy=None, n_estimators=125, n_jobs=None,\n",
       "              num_parallel_tree=None, objective='multi:softmax', ...)"
      ]
     },
     "execution_count": 37,
     "metadata": {},
     "output_type": "execute_result"
    }
   ],
   "source": [
    "cv2.best_estimator_"
   ]
  },
  {
   "cell_type": "code",
   "execution_count": 38,
   "id": "1a58421e-3bf1-489e-91a9-22d990ddf683",
   "metadata": {},
   "outputs": [
    {
     "data": {
      "text/plain": [
       "0.6013966634055498"
      ]
     },
     "execution_count": 38,
     "metadata": {},
     "output_type": "execute_result"
    }
   ],
   "source": [
    "cv2.best_score_"
   ]
  },
  {
   "cell_type": "code",
   "execution_count": 39,
   "id": "89b12fe2-a027-40e2-88f7-26bd2b91d92f",
   "metadata": {},
   "outputs": [],
   "source": [
    "cv_params={\"max_depth\":[20,None],\"min_child_weight\":[3,4],\"learning_rate\":[0.15,0.17],\"n_estimators\":[125,150]}\n",
    "scorers={\"f1_micro\"}\n",
    "xgb3=XGBClassifier(objective=\"multi:softmax\")\n",
    "cv2=GridSearchCV(xgb3,cv_params,scoring=scorers,cv=4,refit=\"f1_micro\")"
   ]
  },
  {
   "cell_type": "code",
   "execution_count": 40,
   "id": "892d9ed9-6038-4a2f-8703-3868a8a7bc6b",
   "metadata": {},
   "outputs": [
    {
     "name": "stdout",
     "output_type": "stream",
     "text": [
      "CPU times: user 2h 19min 10s, sys: 30.9 s, total: 2h 19min 41s\n",
      "Wall time: 19min 56s\n"
     ]
    },
    {
     "data": {
      "text/plain": [
       "GridSearchCV(cv=4,\n",
       "             estimator=XGBClassifier(base_score=None, booster=None,\n",
       "                                     callbacks=None, colsample_bylevel=None,\n",
       "                                     colsample_bynode=None,\n",
       "                                     colsample_bytree=None, device=None,\n",
       "                                     early_stopping_rounds=None,\n",
       "                                     enable_categorical=False, eval_metric=None,\n",
       "                                     feature_types=None, gamma=None,\n",
       "                                     grow_policy=None, importance_type=None,\n",
       "                                     interaction_constraints=None,\n",
       "                                     learning_rate=None,...\n",
       "                                     max_delta_step=None, max_depth=None,\n",
       "                                     max_leaves=None, min_child_weight=None,\n",
       "                                     missing=nan, monotone_constraints=None,\n",
       "                                     multi_strategy=None, n_estimators=None,\n",
       "                                     n_jobs=None, num_parallel_tree=None,\n",
       "                                     objective='multi:softmax', ...),\n",
       "             param_grid={'learning_rate': [0.15, 0.17], 'max_depth': [20, None],\n",
       "                         'min_child_weight': [3, 4],\n",
       "                         'n_estimators': [125, 150]},\n",
       "             refit='f1_micro', scoring={'f1_micro'})"
      ]
     },
     "execution_count": 40,
     "metadata": {},
     "output_type": "execute_result"
    }
   ],
   "source": [
    "%%time\n",
    "cv2.fit(X_train,Y_train)"
   ]
  },
  {
   "cell_type": "code",
   "execution_count": 41,
   "id": "8acdbc37-28ac-4371-b63a-7a0dbb7a3af2",
   "metadata": {},
   "outputs": [
    {
     "data": {
      "text/plain": [
       "XGBClassifier(base_score=None, booster=None, callbacks=None,\n",
       "              colsample_bylevel=None, colsample_bynode=None,\n",
       "              colsample_bytree=None, device=None, early_stopping_rounds=None,\n",
       "              enable_categorical=False, eval_metric=None, feature_types=None,\n",
       "              gamma=None, grow_policy=None, importance_type=None,\n",
       "              interaction_constraints=None, learning_rate=0.15, max_bin=None,\n",
       "              max_cat_threshold=None, max_cat_to_onehot=None,\n",
       "              max_delta_step=None, max_depth=20, max_leaves=None,\n",
       "              min_child_weight=3, missing=nan, monotone_constraints=None,\n",
       "              multi_strategy=None, n_estimators=125, n_jobs=None,\n",
       "              num_parallel_tree=None, objective='multi:softmax', ...)"
      ]
     },
     "execution_count": 41,
     "metadata": {},
     "output_type": "execute_result"
    }
   ],
   "source": [
    "cv2.best_estimator_"
   ]
  },
  {
   "cell_type": "code",
   "execution_count": 42,
   "id": "0c778960-bd97-4382-b17d-2bc839cd04b5",
   "metadata": {},
   "outputs": [
    {
     "data": {
      "text/plain": [
       "0.6013966634055498"
      ]
     },
     "execution_count": 42,
     "metadata": {},
     "output_type": "execute_result"
    }
   ],
   "source": [
    "cv2.best_score_"
   ]
  },
  {
   "cell_type": "code",
   "execution_count": 45,
   "id": "9b27bcc0-9ea1-4bb4-82b4-b1de97db5822",
   "metadata": {},
   "outputs": [],
   "source": [
    "a=cv2.predict(X_test)"
   ]
  },
  {
   "cell_type": "code",
   "execution_count": 46,
   "id": "c6b72db4-3450-488b-a344-afb780b3ec48",
   "metadata": {},
   "outputs": [
    {
     "data": {
      "text/plain": [
       "0.64421632448673"
      ]
     },
     "execution_count": 46,
     "metadata": {},
     "output_type": "execute_result"
    }
   ],
   "source": [
    "f1_score(Y_test,a,average=\"micro\")"
   ]
  },
  {
   "cell_type": "code",
   "execution_count": 48,
   "id": "4c347658-18c5-4491-941e-562d404cf564",
   "metadata": {},
   "outputs": [
    {
     "data": {
      "image/png": "[encoded data removed]",
      "text/plain": [
       "<Figure size 640x480 with 2 Axes>"
      ]
     },
     "metadata": {},
     "output_type": "display_data"
    }
   ],
   "source": [
    "cm=confusion_matrix(Y_test,a,labels=[0,1,2])\n",
    "disp=ConfusionMatrixDisplay(confusion_matrix=cm,display_labels=[0,1,2])\n",
    "disp.plot()\n",
    "plt.show()"
   ]
  },
  {
   "cell_type": "code",
   "execution_count": null,
   "id": "5baaf30f-6d0b-470c-96b9-27b3db231ea5",
   "metadata": {},
   "outputs": [],
   "source": []
  }
 ],
 "metadata": {
  "kernelspec": {
   "display_name": "Python 3 (ipykernel)",
   "language": "python",
   "name": "python3"
  },
  "language_info": {
   "codemirror_mode": {
    "name": "ipython",
    "version": 3
   },
   "file_extension": ".py",
   "mimetype": "text/x-python",
   "name": "python",
   "nbconvert_exporter": "python",
   "pygments_lexer": "ipython3",
   "version": "3.8.16"
  }
 },
 "nbformat": 4,
 "nbformat_minor": 5
}
