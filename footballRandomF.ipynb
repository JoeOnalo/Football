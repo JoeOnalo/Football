{
 "cells": [
  {
   "cell_type": "code",
   "execution_count": 1,
   "id": "6984f1ea-b62d-46e9-af74-36500aac17c2",
   "metadata": {},
   "outputs": [],
   "source": [
    "import numpy as np\n",
    "import pandas as pd\n",
    "import matplotlib.pyplot as plt\n",
    "from sklearn.utils import shuffle\n",
    "\n",
    "from sklearn.model_selection import train_test_split\n",
    "from sklearn.ensemble import RandomForestClassifier\n",
    "from sklearn.metrics import ConfusionMatrixDisplay,confusion_matrix\n",
    "from sklearn.model_selection import GridSearchCV\n",
    "from sklearn.metrics import recall_score,precision_score,f1_score,accuracy_score"
   ]
  },
  {
   "cell_type": "code",
   "execution_count": 2,
   "id": "056548a7-8d38-4b09-82b1-fabbe7b8efde",
   "metadata": {},
   "outputs": [],
   "source": [
    "games=pd.read_csv(\"AllLeagues.csv\")\n",
    "games=shuffle(games)"
   ]
  },
  {
   "cell_type": "code",
   "execution_count": 3,
   "id": "a7926e85-e6d3-4c87-976e-2c3d2145df4e",
   "metadata": {},
   "outputs": [],
   "source": [
    "features=games.loc[:,\"Wins\":]\n"
   ]
  },
  {
   "cell_type": "code",
   "execution_count": 4,
   "id": "76a3858e-5428-4fe1-b8db-42a5705f47a0",
   "metadata": {},
   "outputs": [],
   "source": [
    "targets=games[[\"FTR\"]]"
   ]
  },
  {
   "cell_type": "code",
   "execution_count": 5,
   "id": "b842771b-1c72-4492-bdf5-d1c308f0aee4",
   "metadata": {
    "tags": []
   },
   "outputs": [
    {
     "data": {
      "text/plain": [
       "((35943, 32), (35943, 1))"
      ]
     },
     "execution_count": 5,
     "metadata": {},
     "output_type": "execute_result"
    }
   ],
   "source": [
    "X_train,X_test,Y_train,Y_test=train_test_split(features,targets,test_size=0.1)\n",
    "#stratify=targets\n",
    "X_train.shape,Y_train.shape"
   ]
  },
  {
   "cell_type": "code",
   "execution_count": 6,
   "id": "8f7ecd62-ce1d-497b-83dc-cbf655c8c719",
   "metadata": {},
   "outputs": [
    {
     "data": {
      "text/plain": [
       "array(['H', 'D', 'H', ..., 'H', 'D', 'H'], dtype=object)"
      ]
     },
     "execution_count": 6,
     "metadata": {},
     "output_type": "execute_result"
    }
   ],
   "source": [
    "Y_train=Y_train.values.ravel()\n",
    "Y_train"
   ]
  },
  {
   "cell_type": "code",
   "execution_count": 7,
   "id": "2a0c9d55-c898-4d41-a9df-21c325c7b384",
   "metadata": {},
   "outputs": [
    {
     "name": "stdout",
     "output_type": "stream",
     "text": [
      "CPU times: user 11.7 s, sys: 37.1 ms, total: 11.8 s\n",
      "Wall time: 11.8 s\n"
     ]
    },
    {
     "data": {
      "text/plain": [
       "RandomForestClassifier()"
      ]
     },
     "execution_count": 7,
     "metadata": {},
     "output_type": "execute_result"
    }
   ],
   "source": [
    "%%time\n",
    "rf=RandomForestClassifier(n_estimators=100)\n",
    "rf.fit(X_train,Y_train)"
   ]
  },
  {
   "cell_type": "code",
   "execution_count": 8,
   "id": "47d0c243-cc4d-400d-a014-d220f970bce5",
   "metadata": {},
   "outputs": [],
   "source": [
    "res=rf.predict(X_test)"
   ]
  },
  {
   "cell_type": "code",
   "execution_count": 9,
   "id": "5e8e9507-4a52-48b0-a50b-38dec525012e",
   "metadata": {},
   "outputs": [
    {
     "data": {
      "text/plain": [
       "0.6474712068102153"
      ]
     },
     "execution_count": 9,
     "metadata": {},
     "output_type": "execute_result"
    }
   ],
   "source": [
    "f1_score(Y_test,res,average=\"micro\")"
   ]
  },
  {
   "cell_type": "code",
   "execution_count": 10,
   "id": "3d03d85c-f17e-4c6a-a075-df92021d3868",
   "metadata": {},
   "outputs": [],
   "source": [
    "cm=confusion_matrix(Y_test,res,labels=[\"H\", \"D\",\"A\"])"
   ]
  },
  {
   "cell_type": "code",
   "execution_count": 11,
   "id": "f791bf86-ed62-43b2-9f57-de810fb70c12",
   "metadata": {},
   "outputs": [],
   "source": [
    "disp=ConfusionMatrixDisplay(confusion_matrix=cm,display_labels=[\"H\", \"D\",\"A\"])"
   ]
  },
  {
   "cell_type": "code",
   "execution_count": 12,
   "id": "c0088e95-91f5-4756-ac4f-76fe42011eef",
   "metadata": {},
   "outputs": [
    {
     "data": {
      "image/png": "[encoded data removed]",
      "text/plain": [
       "<Figure size 640x480 with 2 Axes>"
      ]
     },
     "metadata": {},
     "output_type": "display_data"
    }
   ],
   "source": [
    "disp.plot()\n",
    "plt.show()"
   ]
  },
  {
   "cell_type": "code",
   "execution_count": 13,
   "id": "929e7fd6-c0b9-4163-b3b6-c12b9cd2872b",
   "metadata": {},
   "outputs": [
    {
     "data": {
      "text/plain": [
       "'depth_range=[a for a in range(1,50,10)]\\ndepth_range.append(None)\\nsamples_split=[a for a in range(1,1000,100)]\\nleaf_split=[a for a in range(1,1000,100)]\\nfeatures_c=[a for a in range(1,33,4)]\\nestimators=[a for a in range(1,200,20)]\\ncv_params={\"max_depth\":depth_range,\"min_samples_split\":samples_split,\"min_samples_leaf\":leaf_split,\"max_features\":features_c,\"n_estimators\":estimators}'"
      ]
     },
     "execution_count": 13,
     "metadata": {},
     "output_type": "execute_result"
    }
   ],
   "source": [
    "\"\"\"depth_range=[a for a in range(1,50,10)]\n",
    "depth_range.append(None)\n",
    "samples_split=[a for a in range(1,1000,100)]\n",
    "leaf_split=[a for a in range(1,1000,100)]\n",
    "features_c=[a for a in range(1,33,4)]\n",
    "estimators=[a for a in range(1,200,20)]\n",
    "cv_params={\"max_depth\":depth_range,\"min_samples_split\":samples_split,\"min_samples_leaf\":leaf_split,\"max_features\":features_c,\"n_estimators\":estimators}\"\"\""
   ]
  },
  {
   "cell_type": "code",
   "execution_count": 14,
   "id": "3941db1d-967b-4aab-89ba-e76b8c638814",
   "metadata": {},
   "outputs": [],
   "source": [
    "#scoring={\"accuracy\",\"f1_micro\"}"
   ]
  },
  {
   "cell_type": "code",
   "execution_count": 15,
   "id": "b3307a2a-8b91-4f6f-94da-6a3391475711",
   "metadata": {},
   "outputs": [
    {
     "data": {
      "text/plain": [
       "'%%time\\nrf=RandomForestClassifier()\\nrf_cv=GridSearchCV(rf,cv_params,scoring=scoring,cv=5,refit=\"f1_micro\")'"
      ]
     },
     "execution_count": 15,
     "metadata": {},
     "output_type": "execute_result"
    }
   ],
   "source": [
    "\"\"\"%%time\n",
    "rf=RandomForestClassifier()\n",
    "rf_cv=GridSearchCV(rf,cv_params,scoring=scoring,cv=5,refit=\"f1_micro\")\"\"\""
   ]
  },
  {
   "cell_type": "code",
   "execution_count": 16,
   "id": "1dcf852b-121e-459a-9c5d-d5d6a058efe2",
   "metadata": {},
   "outputs": [],
   "source": [
    "#%%time\n",
    "#rf_cv.fit(X_train,Y_train)"
   ]
  },
  {
   "cell_type": "code",
   "execution_count": null,
   "id": "e6e3f01d-5e15-4e82-b308-7331e9c5b9df",
   "metadata": {},
   "outputs": [],
   "source": []
  }
 ],
 "metadata": {
  "kernelspec": {
   "display_name": "Python 3 (ipykernel)",
   "language": "python",
   "name": "python3"
  },
  "language_info": {
   "codemirror_mode": {
    "name": "ipython",
    "version": 3
   },
   "file_extension": ".py",
   "mimetype": "text/x-python",
   "name": "python",
   "nbconvert_exporter": "python",
   "pygments_lexer": "ipython3",
   "version": "3.8.16"
  }
 },
 "nbformat": 4,
 "nbformat_minor": 5
}
